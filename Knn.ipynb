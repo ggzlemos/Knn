{
  "nbformat": 4,
  "nbformat_minor": 0,
  "metadata": {
    "colab": {
      "name": "Knn.ipynb",
      "provenance": [],
      "collapsed_sections": [],
      "authorship_tag": "ABX9TyNRx1V9sjHNZ0JnxyRQbRwb",
      "include_colab_link": true
    },
    "kernelspec": {
      "name": "python3",
      "display_name": "Python 3"
    },
    "language_info": {
      "name": "python"
    }
  },
  "cells": [
    {
      "cell_type": "markdown",
      "metadata": {
        "id": "view-in-github",
        "colab_type": "text"
      },
      "source": [
        "<a href=\"https://colab.research.google.com/github/ggzlemos/Knn/blob/main/Knn.ipynb\" target=\"_parent\"><img src=\"https://colab.research.google.com/assets/colab-badge.svg\" alt=\"Open In Colab\"/></a>"
      ]
    },
    {
      "cell_type": "markdown",
      "metadata": {
        "id": "yKfTtekJ4s8b"
      },
      "source": [
        "##Esse notebook implementa o algoritmo Knn. Utilizou-se o dataset de íris para testar a implementação.\n",
        "\n",
        "##Esta atividade faz parte do treinamento básico do Hub de Inovação em Intligência Artifical (H2IA)\n",
        "\n"
      ]
    },
    {
      "cell_type": "code",
      "metadata": {
        "id": "U3CUT_o94kCB"
      },
      "source": [
        "import numpy as np\n",
        "import pandas as pd\n",
        "from sklearn.decomposition import PCA\n",
        "from sklearn.preprocessing import StandardScaler\n",
        "from sklearn.model_selection import train_test_split \n",
        "from sklearn.datasets import load_iris\n",
        "from collections import Counter "
      ],
      "execution_count": null,
      "outputs": []
    },
    {
      "cell_type": "markdown",
      "metadata": {
        "id": "OOD3vmsutv5R"
      },
      "source": [
        "####Função que calcula a distância euclidiana"
      ]
    },
    {
      "cell_type": "code",
      "metadata": {
        "id": "kSgOSZxi4-VE"
      },
      "source": [
        "def distancia_euclidiana(a, b):\n",
        "  dist = np.sqrt(np.sum((a-b) ** 2))\n",
        "  return dist"
      ],
      "execution_count": null,
      "outputs": []
    },
    {
      "cell_type": "markdown",
      "metadata": {
        "id": "NQA7yECQt4nf"
      },
      "source": [
        "####Classe que implementa o algoritmo KNN"
      ]
    },
    {
      "cell_type": "code",
      "metadata": {
        "id": "qFlQZPrb5Cwf"
      },
      "source": [
        "class Knn:\n",
        "  def __init__(self, k):\n",
        "    self.k = k\n",
        "    self.X_treino = []\n",
        "    self.y_treino = []\n",
        "\n",
        "  def treinamento(self, X, y):\n",
        "    self.X_treino = X\n",
        "    self.y_treino = y.values\n",
        "\n",
        "  def prediz(self, X):    \n",
        "    saida = []\n",
        "    i = 0       \n",
        "    for exemplo in X:\n",
        "      dists = []\n",
        "      for x in self.X_treino.values:\n",
        "        dists.append(distancia_euclidiana(exemplo, x))\n",
        "      \n",
        "      index = np.argsort(dists)[:self.k]\n",
        "      rotulos = [self.y_treino[i][0] for i in index]      \n",
        "      vizinho = Counter(rotulos).most_common(1)\n",
        "     \n",
        "      saida.append(vizinho[0][0])\n",
        "    \n",
        "    return np.array(saida)  \n",
        "          "
      ],
      "execution_count": null,
      "outputs": []
    },
    {
      "cell_type": "markdown",
      "metadata": {
        "id": "z7PUGfPat9Pj"
      },
      "source": [
        "####Leitura dos dados"
      ]
    },
    {
      "cell_type": "code",
      "metadata": {
        "id": "d2-wxek1APus"
      },
      "source": [
        "data = load_iris()\n",
        "X = pd.DataFrame(data.data)\n",
        "y = pd.DataFrame(data.target)"
      ],
      "execution_count": null,
      "outputs": []
    },
    {
      "cell_type": "code",
      "metadata": {
        "id": "y4htcI-MAlMT"
      },
      "source": [
        "X_treino, X_teste, y_treino, y_teste = train_test_split(X, y, test_size=0.3)"
      ],
      "execution_count": null,
      "outputs": []
    },
    {
      "cell_type": "markdown",
      "metadata": {
        "id": "xi1f8mg1uBfa"
      },
      "source": [
        "####Criação do classificador e avaliação da acurácia"
      ]
    },
    {
      "cell_type": "code",
      "metadata": {
        "colab": {
          "base_uri": "https://localhost:8080/"
        },
        "id": "tplHt8G8Bt80",
        "outputId": "b35435f3-999b-41ec-f7f7-fcd259487413"
      },
      "source": [
        "classificador = Knn(3)\n",
        "classificador.treinamento(X_treino, y_treino)\n",
        "\n",
        "a = classificador.prediz(X_teste.values)\n",
        "print(a)\n",
        "\n",
        "acuracia = np.sum(a == y_teste[0]) / len(y_teste.values)\n",
        "acuracia"
      ],
      "execution_count": null,
      "outputs": [
        {
          "output_type": "stream",
          "name": "stdout",
          "text": [
            "[1 2 2 1 0 1 0 0 1 2 2 1 1 2 0 1 0 1 0 0 0 1 1 2 2 1 1 0 1 2 1 0 1 0 1 1 1\n",
            " 1 2 0 2 0 0 0 2]\n"
          ]
        },
        {
          "output_type": "execute_result",
          "data": {
            "text/plain": [
              "0.9555555555555556"
            ]
          },
          "metadata": {},
          "execution_count": 22
        }
      ]
    },
    {
      "cell_type": "markdown",
      "metadata": {
        "id": "vNMcwxF_JSR3"
      },
      "source": [
        "###Referências utilizadas nesta implementação\n",
        "\n",
        "[The KNN Algorithm – Explanation, Opportunities, Limitations](https://neptune.ai/blog/knn-algorithm-explanation-opportunities-limitations)\n",
        "\n",
        "[A Quick Introduction to K-Nearest Neighbors Algorithm](https://medium.com/@adi.bronshtein/a-quick-introduction-to-k-nearest-neighbors-algorithm-62214cea29c7)]\n",
        "\n",
        "[Introduction to k-Nearest Neighbors: A powerful Machine Learning Algorithm (with implementation in Python & R)](https://www.analyticsvidhya.com/blog/2018/03/introduction-k-neighbours-algorithm-clustering/)\n",
        "\n",
        "[StatQuest: K-nearest neighbors, Clearly Explained](https://www.youtube.com/watch?v=HVXime0nQeI)\n",
        "\n",
        "[KNN Algorithm using Python | How KNN Algorithm works | Python Data Science Training | Edureka](https://www.youtube.com/watch?v=6kZ-OPLNcgE)\n",
        "\n",
        "[What Is The Difference Between KNN and K-means?](https://www.youtube.com/watch?v=OClrEI_5Ri4)\n",
        "\n",
        "[Machine Learning From Scratch](https://www.youtube.com/watch?v=ngLyX54e1LU)"
      ]
    }
  ]
}