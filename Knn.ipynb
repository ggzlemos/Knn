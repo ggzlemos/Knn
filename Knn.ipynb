{
  "nbformat": 4,
  "nbformat_minor": 0,
  "metadata": {
    "colab": {
      "name": "Knn.ipynb",
      "provenance": [],
      "authorship_tag": "ABX9TyMeCqaqLAk7Hn0CHc1ZUezZ",
      "include_colab_link": true
    },
    "kernelspec": {
      "name": "python3",
      "display_name": "Python 3"
    },
    "language_info": {
      "name": "python"
    }
  },
  "cells": [
    {
      "cell_type": "markdown",
      "metadata": {
        "id": "view-in-github",
        "colab_type": "text"
      },
      "source": [
        "<a href=\"https://colab.research.google.com/github/ggzlemos/Knn/blob/main/Knn.ipynb\" target=\"_parent\"><img src=\"https://colab.research.google.com/assets/colab-badge.svg\" alt=\"Open In Colab\"/></a>"
      ]
    },
    {
      "cell_type": "markdown",
      "metadata": {
        "id": "yKfTtekJ4s8b"
      },
      "source": [
        "##Esse notebook implementa o algoritmo Knn. Utilizou-se o dataset de íris para testar a implementação "
      ]
    },
    {
      "cell_type": "code",
      "metadata": {
        "id": "U3CUT_o94kCB"
      },
      "source": [
        "import numpy as np\n",
        "import pandas as pd\n",
        "from sklearn.decomposition import PCA\n",
        "from sklearn.preprocessing import StandardScaler\n",
        "from sklearn.model_selection import train_test_split \n",
        "from sklearn.datasets import load_iris\n",
        "from collections import Counter "
      ],
      "execution_count": null,
      "outputs": []
    },
    {
      "cell_type": "code",
      "metadata": {
        "id": "kSgOSZxi4-VE"
      },
      "source": [
        "def distancia_euclidiana(a, b):\n",
        "  dist = np.sqrt(np.sum((a-b) ** 2))\n",
        "  return dist"
      ],
      "execution_count": null,
      "outputs": []
    },
    {
      "cell_type": "code",
      "metadata": {
        "id": "qFlQZPrb5Cwf"
      },
      "source": [
        "class Knn:\n",
        "  def __init__(self, k):\n",
        "    self.k = k\n",
        "    self.X_treino = []\n",
        "    self.y_treino = []\n",
        "\n",
        "  def treinamento(self, X, y):\n",
        "    self.X_treino = X\n",
        "    self.y_treino = y.values\n",
        "\n",
        "  def prediz(self, X):    \n",
        "    saida = []\n",
        "    i = 0       \n",
        "    for exemplo in X:\n",
        "      #print(i)\n",
        "      dists = []\n",
        "      for x in self.X_treino.values:\n",
        "        dists.append(distancia_euclidiana(exemplo, x))\n",
        "      \n",
        "      \n",
        "      index = np.argsort(dists)[:self.k]          \n",
        "      rotulos = [self.y_treino[i][0] for i in index]\n",
        "     \n",
        "      vizinho = Counter(rotulos).most_common(1)\n",
        "     \n",
        "      saida.append(vizinho[0][0])\n",
        "    \n",
        "    return np.array(saida)  "
      ],
      "execution_count": null,
      "outputs": []
    },
    {
      "cell_type": "code",
      "metadata": {
        "id": "d2-wxek1APus"
      },
      "source": [
        "data = load_iris()\n",
        "X = pd.DataFrame(data.data)\n",
        "y = pd.DataFrame(data.target)"
      ],
      "execution_count": null,
      "outputs": []
    },
    {
      "cell_type": "code",
      "metadata": {
        "colab": {
          "base_uri": "https://localhost:8080/"
        },
        "id": "y4htcI-MAlMT",
        "outputId": "1967e07d-389c-4ab7-91b8-43ee3777b202"
      },
      "source": [
        "X_treino, X_teste, y_treino, y_teste = train_test_split(X, y, test_size=0.2, random_state = 42)\n",
        "y_teste[0].values"
      ],
      "execution_count": null,
      "outputs": [
        {
          "output_type": "execute_result",
          "data": {
            "text/plain": [
              "array([1, 0, 2, 1, 1, 0, 1, 2, 1, 1, 2, 0, 0, 0, 0, 1, 2, 1, 1, 2, 0, 2,\n",
              "       0, 2, 2, 2, 2, 2, 0, 0])"
            ]
          },
          "metadata": {},
          "execution_count": 384
        }
      ]
    },
    {
      "cell_type": "code",
      "metadata": {
        "colab": {
          "base_uri": "https://localhost:8080/"
        },
        "id": "tplHt8G8Bt80",
        "outputId": "1c383e4d-0e3a-48ff-d4e5-1f5d3fa180b4"
      },
      "source": [
        "classificador = Knn(5)\n",
        "classificador.treinamento(X_treino, y_treino)\n",
        "\n",
        "\n",
        "a = classificador.prediz(X_teste.values)\n",
        "print(a)\n",
        "acuracia = np.sum(a == y_teste[0]) / len(y_teste.values)\n",
        "\n",
        "acuracia"
      ],
      "execution_count": null,
      "outputs": [
        {
          "output_type": "stream",
          "name": "stdout",
          "text": [
            "[79 90 39 73 80]\n",
            "[ 48  14  94 114  13]\n",
            "[ 24  21  64  96 106]\n",
            "[90 79 86 39 22]\n",
            "[ 92  12 105  80  54]\n",
            "[114   7  26  71  14]\n",
            "[ 88  95 108  89 118]\n",
            "[ 85  76  87  83 103]\n",
            "[110  73  68  80   5]\n",
            "[118 108  25 115  34]\n",
            "[ 87  83  54  17 109]\n",
            "[104  55  78  70  32]\n",
            "[14 26 94  7 23]\n",
            "[ 55 104  32  51  78]\n",
            "[98 84 94  8 71]\n",
            "[ 6 11 90 12 59]\n",
            "[103  97  76  61 100]\n",
            "[ 53  65  15 118  47]\n",
            "[22 93 20 34 36]\n",
            "[107  50  76 103 109]\n",
            "[70  3 38 55 78]\n",
            "[ 42  81 113  59  30]\n",
            "[33 58 57 35 71]\n",
            "[107  50 109  17  76]\n",
            "[37 21 64 19 69]\n",
            "[ 87  85  76  83 103]\n",
            "[107 109  50  76 119]\n",
            "[ 61  97 100 103 119]\n",
            "[104  55  78  70  32]\n",
            "[ 55  32  70 104   3]\n",
            "[1 0 2 1 1 0 1 2 1 1 2 0 0 0 0 1 2 1 1 2 0 2 0 2 2 2 2 2 0 0]\n"
          ]
        },
        {
          "output_type": "execute_result",
          "data": {
            "text/plain": [
              "1.0"
            ]
          },
          "metadata": {},
          "execution_count": 388
        }
      ]
    }
  ]
}